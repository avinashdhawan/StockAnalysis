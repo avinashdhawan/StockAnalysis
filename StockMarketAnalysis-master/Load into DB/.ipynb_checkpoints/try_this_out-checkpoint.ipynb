{
 "cells": [
  {
   "cell_type": "code",
   "execution_count": 1,
   "metadata": {},
   "outputs": [],
   "source": [
    "from bs4 import BeautifulSoup as bs\n",
    "from splinter import Browser\n",
    "import pandas as pd\n",
    "import time\n",
    "import datetime as dt"
   ]
  },
  {
   "cell_type": "code",
   "execution_count": 2,
   "metadata": {},
   "outputs": [
    {
     "data": {
      "text/plain": [
       "'1997-05-15 00:00:00'"
      ]
     },
     "execution_count": 2,
     "metadata": {},
     "output_type": "execute_result"
    }
   ],
   "source": [
    "# from website\n",
    "ts = int(863654400)\n",
    "date_found = dt.datetime.utcfromtimestamp(ts).strftime('%Y-%m-%d %H:%M:%S')\n",
    "date_found"
   ]
  },
  {
   "cell_type": "code",
   "execution_count": 3,
   "metadata": {},
   "outputs": [
    {
     "data": {
      "text/plain": [
       "1591488000.0"
      ]
     },
     "execution_count": 3,
     "metadata": {},
     "output_type": "execute_result"
    }
   ],
   "source": [
    "# get the start date in unix time\n",
    "# HTTP request asks for this\n",
    "d = dt.date(2020,6,6)\n",
    "\n",
    "# it appears (there is a 2 hour timezone difference)\n",
    "unixtime_start = time.mktime(d.timetuple()) + 72000\n",
    "unixtime_start"
   ]
  },
  {
   "cell_type": "code",
   "execution_count": 4,
   "metadata": {},
   "outputs": [
    {
     "data": {
      "text/plain": [
       "863654400.0"
      ]
     },
     "execution_count": 4,
     "metadata": {},
     "output_type": "execute_result"
    }
   ],
   "source": [
    "# get the end date in unix time\n",
    "# HTTP request asks for this\n",
    "d = dt.date(1997,5,14)\n",
    "\n",
    "# it appears (there is a 2 hour timezone difference)\n",
    "unixtime_end = time.mktime(d.timetuple()) + 72000\n",
    "unixtime_end"
   ]
  },
  {
   "cell_type": "code",
   "execution_count": 5,
   "metadata": {},
   "outputs": [],
   "source": [
    "# stock_list = [\"_DJI\",\"XOM\",\"TRV\",\"PFE\",\"NKE\",\"MCD\",\"GS\",\"CVX\",\"AAPL\",\n",
    "#                   \"AXP\",\"BA\",\"CAT\",\"CSCO\",\"DIS\",\"DOW\",\"HD\",\"IBM\",\"JNJ\",\"JPM\",\n",
    "#                   \"MMM\",\"MSFT\",\"PG\",\"RTX\",\"UNH\",\"V\",\"VZ\",\"WBA\",\"WMMT\",\"INTC\",\"KO\"]\n",
    "#     # URL creation for HTTP request\n",
    "# stock_ticker = [stock for stock in stock_list]"
   ]
  },
  {
   "cell_type": "code",
   "execution_count": 8,
   "metadata": {},
   "outputs": [
    {
     "data": {
      "text/plain": [
       "True"
      ]
     },
     "execution_count": 8,
     "metadata": {},
     "output_type": "execute_result"
    }
   ],
   "source": [
    "# stock_list == stock_ticker"
   ]
  },
  {
   "cell_type": "code",
   "execution_count": null,
   "metadata": {},
   "outputs": [],
   "source": [
    "# url_list = \n",
    "# \"https://ca.finance.yahoo.com/quote/%5EDJI/history?period1=1577836800&period2=1592524800&interval=1mo&filter=history&frequency=1mo\",\n",
    "# \"https://ca.finance.yahoo.com/quote/XOM/history?period1=1577836800&period2=1592524800&interval=1mo&filter=history&frequency=1mo\",\n",
    "# \"https://ca.finance.yahoo.com/quote/TRV/history?period1=1577836800&period2=1592524800&interval=1mo&filter=history&frequency=1mo\",\n",
    "# \"https://ca.finance.yahoo.com/quote/PFE/history?period1=1577836800&period2=1592524800&interval=1mo&filter=history&frequency=1mo\",\n",
    "# \"https://ca.finance.yahoo.com/quote/NKE/history?period1=1577836800&period2=1592524800&interval=1mo&filter=history&frequency=1mo\",\n",
    "# \"https://ca.finance.yahoo.com/quote/MCD/history?period1=1577836800&period2=1592524800&interval=1mo&filter=history&frequency=1mo\",\n",
    "# \"https://ca.finance.yahoo.com/quote/GS/history?period1=1577836800&period2=1592524800&interval=1mo&filter=history&frequency=1mo\",\n",
    "# \"https://ca.finance.yahoo.com/quote/CVX/history?period1=1577836800&period2=1592524800&interval=1mo&filter=history&frequency=1mo\",\n",
    "# \"https://ca.finance.yahoo.com/quote/AAPL/history?period1=1577836800&period2=1592524800&interval=1mo&filter=history&frequency=1mo\",\n",
    "# \"https://ca.finance.yahoo.com/quote/AXP/history?period1=1577836800&period2=1592524800&interval=1mo&filter=history&frequency=1mo\",\n",
    "# \"https://ca.finance.yahoo.com/quote/BA/history?period1=1577836800&period2=1592524800&interval=1mo&filter=history&frequency=1mo\",\n",
    "# \"https://ca.finance.yahoo.com/quote/CAT/history?period1=1577836800&period2=1592524800&interval=1mo&filter=history&frequency=1mo\",\n",
    "# \"https://ca.finance.yahoo.com/quote/CSCO/history?period1=1577836800&period2=1592524800&interval=1mo&filter=history&frequency=1mo\",\n",
    "# \"https://ca.finance.yahoo.com/quote/DIS/history?period1=1577836800&period2=1592524800&interval=1mo&filter=history&frequency=1mo\",\n",
    "# \"https://ca.finance.yahoo.com/quote/DOW/history?period1=1577836800&period2=1592524800&interval=1mo&filter=history&frequency=1mo\",\n",
    "# \"https://ca.finance.yahoo.com/quote/HD/history?period1=1577836800&period2=1592524800&interval=1mo&filter=history&frequency=1mo\",\n",
    "# \"https://ca.finance.yahoo.com/quote/IBM/history?period1=1577836800&period2=1592524800&interval=1mo&filter=history&frequency=1mo\",\n",
    "# \"https://ca.finance.yahoo.com/quote/JNJ/history?period1=1577836800&period2=1592524800&interval=1mo&filter=history&frequency=1mo\",\n",
    "# \"https://ca.finance.yahoo.com/quote/JPM/history?period1=1577836800&period2=1592524800&interval=1mo&filter=history&frequency=1mo\",\n",
    "# \"https://ca.finance.yahoo.com/quote/MMM/history?period1=1577836800&period2=1592524800&interval=1mo&filter=history&frequency=1mo\",\n",
    "# \"https://ca.finance.yahoo.com/quote/MSFT/history?period1=1577836800&period2=1592524800&interval=1mo&filter=history&frequency=1mo\",\n",
    "# \"https://ca.finance.yahoo.com/quote/PG/history?period1=1577836800&period2=1592524800&interval=1mo&filter=history&frequency=1mo\",\n",
    "# \"https://ca.finance.yahoo.com/quote/RTX/history?period1=1577836800&period2=1592524800&interval=1mo&filter=history&frequency=1mo\",\n",
    "# \"https://ca.finance.yahoo.com/quote/UNH/history?period1=1577836800&period2=1592524800&interval=1mo&filter=history&frequency=1mo\",\n",
    "# \"https://ca.finance.yahoo.com/quote/V/history?period1=1577836800&period2=1592524800&interval=1mo&filter=history&frequency=1mo\",\n",
    "# \"https://ca.finance.yahoo.com/quote/VZ/history?period1=1577836800&period2=1592524800&interval=1mo&filter=history&frequency=1mo\",\n",
    "# \"https://ca.finance.yahoo.com/quote/WBA/history?period1=1577836800&period2=1592524800&interval=1mo&filter=history&frequency=1mo\",\n",
    "# \"https://ca.finance.yahoo.com/quote/WMMT/history?period1=1577836800&period2=1592524800&interval=1mo&filter=history&frequency=1mo\",\n",
    "# \"https://ca.finance.yahoo.com/quote/INTC/history?period1=1577836800&period2=1592524800&interval=1mo&filter=history&frequency=1mo\",\n",
    "# \"https://ca.finance.yahoo.com/quote/KO/history?period1=1577836800&period2=1592524800&interval=1mo&filter=history&frequency=1mo\",\n"
   ]
  },
  {
   "cell_type": "code",
   "execution_count": null,
   "metadata": {},
   "outputs": [],
   "source": [
    "# check you version of chrome browser\n",
    "# use the compatible chromedriver.exe\n",
    "# mine is 'ChromeDriver 83.0.4103.39'\n",
    "# 'https://chromedriver.chromium.org/downloads'\n",
    "executable_path = {'executable_path':'./chromedriver.exe'}\n",
    "\n",
    "# use Python context manager (with) so I do not need\n",
    "# to call browser.quit() at the end\n",
    "# instead Python will manage that for me :)\n",
    "with Browser('chrome', **executable_path) as browser:\n",
    "    \n",
    "#   URL creation for HTTP request\n",
    "#     tab_selection = \"history\"\n",
    "#     period2 = 1592524800\n",
    "#     period1 = 1577836800\n",
    "#     interval = \"1mo\"\n",
    "#     filter_stocks = \"history&frequency=1mo\"\n",
    "#     # example URL\n",
    "# #     'https://ca.finance.yahoo.com/quote/AMZN/history?period1=863654400&period2=1591488000&interval=1d&filter=history&frequency=1d'\n",
    "# url = (f\"https://ca.finance.yahoo.com/quote/\" +\n",
    "#     f\"{stock_ticker}\" +\n",
    "#     f\"/history?period1=1577836800&period2=1592524800&interval=1mo&filter=history&frequency=1mo\")\n",
    "    \n",
    "    \n",
    "    \n",
    "    \n",
    "#     url = (\n",
    "#            f\"https://ca.finance.yahoo.com/quote/\" +\n",
    "#            f\"{stock_ticker}/{tab_selection}?period1={period1}\" +\n",
    "#            f\"&period2={period2}&interval={interval}&\" +\n",
    "#            f\"filter={filter_stocks}\"\n",
    "#            )\n",
    "\n",
    "# url list for all 30 stocks\n",
    "    url_list = [\n",
    "    \"https://ca.finance.yahoo.com/quote/%5EDJI/history?period1=1577836800&period2=1592524800&interval=1mo&filter=history&frequency=1mo\",\n",
    "#     \"https://ca.finance.yahoo.com/quote/XOM/history?period1=1577836800&period2=1592524800&interval=1mo&filter=history&frequency=1mo\",\n",
    "#     \"https://ca.finance.yahoo.com/quote/TRV/history?period1=1577836800&period2=1592524800&interval=1mo&filter=history&frequency=1mo\",\n",
    "#     \"https://ca.finance.yahoo.com/quote/PFE/history?period1=1577836800&period2=1592524800&interval=1mo&filter=history&frequency=1mo\",\n",
    "#     \"https://ca.finance.yahoo.com/quote/NKE/history?period1=1577836800&period2=1592524800&interval=1mo&filter=history&frequency=1mo\",\n",
    "#     \"https://ca.finance.yahoo.com/quote/MCD/history?period1=1577836800&period2=1592524800&interval=1mo&filter=history&frequency=1mo\",\n",
    "#     \"https://ca.finance.yahoo.com/quote/GS/history?period1=1577836800&period2=1592524800&interval=1mo&filter=history&frequency=1mo\",\n",
    "#     \"https://ca.finance.yahoo.com/quote/CVX/history?period1=1577836800&period2=1592524800&interval=1mo&filter=history&frequency=1mo\",\n",
    "#     \"https://ca.finance.yahoo.com/quote/AAPL/history?period1=1577836800&period2=1592524800&interval=1mo&filter=history&frequency=1mo\",\n",
    "#     \"https://ca.finance.yahoo.com/quote/AXP/history?period1=1577836800&period2=1592524800&interval=1mo&filter=history&frequency=1mo\",\n",
    "#     \"https://ca.finance.yahoo.com/quote/BA/history?period1=1577836800&period2=1592524800&interval=1mo&filter=history&frequency=1mo\",\n",
    "#     \"https://ca.finance.yahoo.com/quote/CAT/history?period1=1577836800&period2=1592524800&interval=1mo&filter=history&frequency=1mo\",\n",
    "#     \"https://ca.finance.yahoo.com/quote/CSCO/history?period1=1577836800&period2=1592524800&interval=1mo&filter=history&frequency=1mo\",\n",
    "#     \"https://ca.finance.yahoo.com/quote/DIS/history?period1=1577836800&period2=1592524800&interval=1mo&filter=history&frequency=1mo\",\n",
    "#     \"https://ca.finance.yahoo.com/quote/DOW/history?period1=1577836800&period2=1592524800&interval=1mo&filter=history&frequency=1mo\",\n",
    "#     \"https://ca.finance.yahoo.com/quote/HD/history?period1=1577836800&period2=1592524800&interval=1mo&filter=history&frequency=1mo\",\n",
    "#     \"https://ca.finance.yahoo.com/quote/IBM/history?period1=1577836800&period2=1592524800&interval=1mo&filter=history&frequency=1mo\",\n",
    "#     \"https://ca.finance.yahoo.com/quote/JNJ/history?period1=1577836800&period2=1592524800&interval=1mo&filter=history&frequency=1mo\",\n",
    "#     \"https://ca.finance.yahoo.com/quote/JPM/history?period1=1577836800&period2=1592524800&interval=1mo&filter=history&frequency=1mo\",\n",
    "#     \"https://ca.finance.yahoo.com/quote/MMM/history?period1=1577836800&period2=1592524800&interval=1mo&filter=history&frequency=1mo\",\n",
    "#     \"https://ca.finance.yahoo.com/quote/MSFT/history?period1=1577836800&period2=1592524800&interval=1mo&filter=history&frequency=1mo\",\n",
    "#     \"https://ca.finance.yahoo.com/quote/PG/history?period1=1577836800&period2=1592524800&interval=1mo&filter=history&frequency=1mo\",\n",
    "#     \"https://ca.finance.yahoo.com/quote/RTX/history?period1=1577836800&period2=1592524800&interval=1mo&filter=history&frequency=1mo\",\n",
    "#     \"https://ca.finance.yahoo.com/quote/UNH/history?period1=1577836800&period2=1592524800&interval=1mo&filter=history&frequency=1mo\",\n",
    "#     \"https://ca.finance.yahoo.com/quote/V/history?period1=1577836800&period2=1592524800&interval=1mo&filter=history&frequency=1mo\",\n",
    "#     \"https://ca.finance.yahoo.com/quote/VZ/history?period1=1577836800&period2=1592524800&interval=1mo&filter=history&frequency=1mo\",\n",
    "#     \"https://ca.finance.yahoo.com/quote/WBA/history?period1=1577836800&period2=1592524800&interval=1mo&filter=history&frequency=1mo\",\n",
    "#     \"https://ca.finance.yahoo.com/quote/WMT/history?period1=1577836800&period2=1592524800&interval=1mo&filter=history&frequency=1mo\",\n",
    "#     \"https://ca.finance.yahoo.com/quote/INTC/history?period1=1577836800&period2=1592524800&interval=1mo&filter=history&frequency=1mo\",\n",
    "    \"https://ca.finance.yahoo.com/quote/KO/history?period1=1577836800&period2=1592524800&interval=1mo&filter=history&frequency=1mo\"\n",
    "    ]\n",
    "    \n",
    "# for loop to visit each url in url list and append data to df\n",
    "    df_master_list = []\n",
    "    \n",
    "    for x in url_list:\n",
    "        browser.visit(x)\n",
    "\n",
    "    # visit the url\n",
    "#     browser.visit(url)\n",
    "    # sleep on the page for a couple of seconds cause it is\n",
    "    # resource intensive\n",
    "        time.sleep(3)\n",
    "         # use pandas.read_html() to get the html table as a\n",
    "        # pandas dataframe\n",
    "        html = browser.html\n",
    "        soup = bs(html, \"html.parser\")\n",
    "        df_list = pd.read_html(html)\n",
    "        df = df_list[0]\n",
    "#         print(df)\n",
    "        trimmed_url = x.replace(\"https://ca.finance.yahoo.com/quote/\",\"\")\n",
    "        ticker = trimmed_url.replace(\"/history?period1=1577836800&period2=1592524800&interval=1mo&filter=history&frequency=1mo\",\"\")\n",
    "#         print(ticker)\n",
    "        stocknm = {\"stock\": ticker}\n",
    "        df_master_list.append(stocknm)\n",
    "        df_master_list.append(df.to_dict())\n",
    "\n",
    "\n",
    "    # this while loop will scroll through the infinitely scrolling\n",
    "    # element\n",
    "    # this will allow for the HTML table (that is dynamically generated)\n",
    "    # to be in the HTML\n",
    "    # get the current height of the <div id=render-target-default>\n",
    "#         lastHeight = browser.execute_script(r\"return document.querySelector('#render-target-default').scrollHeight\")\n",
    "    \n",
    "#         while True:\n",
    "#             # scroll to the bottom of the div\n",
    "#             browser.execute_script(\"window.scrollTo(0, document.querySelector('#render-target-default').scrollHeight);\")\n",
    "#             time.sleep(5)\n",
    "#             # check for the new height of the div\n",
    "#             newHeight = browser.execute_script(\"return document.querySelector('#render-target-default').scrollHeight\")\n",
    "#             # if the new height and the last height are the same\n",
    "#             # then shut down the while loop\n",
    "#             if newHeight == lastHeight:\n",
    "#                 break\n",
    "#             # set the last Height to the new height and iterate again\n",
    "#             lastHeight = newHeight"
   ]
  },
  {
   "cell_type": "code",
   "execution_count": 99,
   "metadata": {},
   "outputs": [
    {
     "name": "stdout",
     "output_type": "stream",
     "text": [
      "(9, 7)\n",
      "Index(['Date', 'Open', 'High', 'Low', 'Close*', 'Adj Close**', 'Volume'], dtype='object')\n"
     ]
    },
    {
     "ename": "TypeError",
     "evalue": "'str' object cannot be interpreted as an integer",
     "output_type": "error",
     "traceback": [
      "\u001b[1;31m---------------------------------------------------------------------------\u001b[0m",
      "\u001b[1;31mTypeError\u001b[0m                                 Traceback (most recent call last)",
      "\u001b[1;32m<ipython-input-99-4b2c3d0263bd>\u001b[0m in \u001b[0;36m<module>\u001b[1;34m\u001b[0m\n\u001b[0;32m      2\u001b[0m \u001b[0mprint\u001b[0m\u001b[1;33m(\u001b[0m\u001b[0mdf\u001b[0m\u001b[1;33m.\u001b[0m\u001b[0mshape\u001b[0m\u001b[1;33m)\u001b[0m\u001b[1;33m\u001b[0m\u001b[1;33m\u001b[0m\u001b[0m\n\u001b[0;32m      3\u001b[0m \u001b[0mprint\u001b[0m\u001b[1;33m(\u001b[0m\u001b[0mdf\u001b[0m\u001b[1;33m.\u001b[0m\u001b[0mcolumns\u001b[0m\u001b[1;33m)\u001b[0m\u001b[1;33m\u001b[0m\u001b[1;33m\u001b[0m\u001b[0m\n\u001b[1;32m----> 4\u001b[1;33m \u001b[0mdf_master_list_2\u001b[0m \u001b[1;33m=\u001b[0m \u001b[0mdf_master_list\u001b[0m\u001b[1;33m.\u001b[0m\u001b[0mpop\u001b[0m\u001b[1;33m(\u001b[0m\u001b[1;34m\"*Close price adjusted for splits.**Adjusted close price adjusted for both dividends and splits.\"\u001b[0m\u001b[1;33m)\u001b[0m\u001b[1;33m\u001b[0m\u001b[1;33m\u001b[0m\u001b[0m\n\u001b[0m\u001b[0;32m      5\u001b[0m \u001b[0mdf_master_list_2\u001b[0m\u001b[1;33m\u001b[0m\u001b[1;33m\u001b[0m\u001b[0m\n",
      "\u001b[1;31mTypeError\u001b[0m: 'str' object cannot be interpreted as an integer"
     ]
    }
   ],
   "source": [
    "# show some data that was scraped from the HTML table\n",
    "print(df.shape)\n",
    "print(df.columns)\n",
    "df_master_list_2 = df_master_list.pop(\"*Close price adjusted for splits.**Adjusted close price adjusted for both dividends and splits.\")\n",
    "df_master_list_2    "
   ]
  },
  {
   "cell_type": "code",
   "execution_count": null,
   "metadata": {},
   "outputs": [],
   "source": []
  },
  {
   "cell_type": "code",
   "execution_count": null,
   "metadata": {},
   "outputs": [],
   "source": [
    "# executable_path = {'executable_path':'./chromedriver.exe'}\n",
    "\n",
    "# browser =  Browser('chrome', **executable_path)\n",
    "\n",
    "# url = \"https://ca.finance.yahoo.com\"\n",
    "# browser.visit(url)"
   ]
  },
  {
   "cell_type": "code",
   "execution_count": 12,
   "metadata": {},
   "outputs": [],
   "source": [
    "# url = \"https://ca.finance.yahoo.com/quote/IDEX/history?p=IDEX\"\n",
    "# browser.visit(url)"
   ]
  },
  {
   "cell_type": "code",
   "execution_count": null,
   "metadata": {},
   "outputs": [],
   "source": [
    "# url = \"https://ca.finance.yahoo.com/quote/IDEX/history?period1=1546300800&period2=1577836800&interval=1d&filter=history&frequency=1d\"\n",
    "# browser.visit(url)"
   ]
  },
  {
   "cell_type": "code",
   "execution_count": null,
   "metadata": {},
   "outputs": [],
   "source": []
  },
  {
   "cell_type": "code",
   "execution_count": null,
   "metadata": {},
   "outputs": [],
   "source": []
  },
  {
   "cell_type": "code",
   "execution_count": null,
   "metadata": {},
   "outputs": [],
   "source": []
  },
  {
   "cell_type": "code",
   "execution_count": null,
   "metadata": {},
   "outputs": [],
   "source": []
  },
  {
   "cell_type": "code",
   "execution_count": null,
   "metadata": {},
   "outputs": [],
   "source": []
  }
 ],
 "metadata": {
  "kernelspec": {
   "display_name": "Python 3",
   "language": "python",
   "name": "python3"
  }
 },
 "nbformat": 4,
 "nbformat_minor": 4
}
